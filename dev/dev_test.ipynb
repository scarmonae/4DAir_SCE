{
 "cells": [
  {
   "cell_type": "code",
   "execution_count": 3,
   "metadata": {},
   "outputs": [
    {
     "name": "stdout",
     "output_type": "stream",
     "text": [
      "Líneas originales y modificadas:\n",
      "Original: Aquí tenemos algunos ejemplos: 12345.p, 67890.s, y más datos 00000.s\n",
      "Modificada: Aquí tenemos algunos ejemplos: 00532.p, 00532.s, y más datos 00532.s\n",
      "Original: Revisa este dato 00000.p y también 54321.s en diferentes casos.\n",
      "Modificada: Revisa este dato 00532.p y también 00532.s en diferentes casos.\n",
      "Original: Nada que ver aquí, solo texto.\n",
      "Modificada: Nada que ver aquí, solo texto.\n",
      "Original: Otro ejemplo 11111.p con datos adicionales.\n",
      "Modificada: Otro ejemplo 00532.p con datos adicionales.\n"
     ]
    }
   ],
   "source": [
    "import re\n",
    "\n",
    "# El patrón regex que coincide con cinco dígitos seguidos de .p o .s\n",
    "pattern = r'(\\d{5})(\\.[ps])'\n",
    "\n",
    "# Lista de cadenas\n",
    "lines = [\n",
    "    \"Aquí tenemos algunos ejemplos: 12345.p, 67890.s, y más datos 00000.s\",\n",
    "    \"Revisa este dato 00000.p y también 54321.s en diferentes casos.\",\n",
    "    \"Nada que ver aquí, solo texto.\",\n",
    "    \"Otro ejemplo 11111.p con datos adicionales.\"\n",
    "]\n",
    "\n",
    "# Función para realizar el reemplazo\n",
    "def replace_match(match):\n",
    "    number = '00532'  # Nuevo número que quieres usar\n",
    "    suffix = match.group(2)  # Conservar el sufijo original (.p o .s)\n",
    "    return f\"{number}{suffix}\"\n",
    "\n",
    "# Lista para guardar las cadenas modificadas\n",
    "modified_lines = []\n",
    "\n",
    "# Iterar sobre cada línea en la lista\n",
    "for line in lines:\n",
    "    # Reemplazar todas las coincidencias en la línea actual\n",
    "    modified_line = re.sub(pattern, replace_match, line)\n",
    "    # Agregar la línea modificada a la lista de líneas modificadas\n",
    "    modified_lines.append(modified_line)\n",
    "\n",
    "# Imprimir las líneas originales y modificadas para comparación\n",
    "print(\"Líneas originales y modificadas:\")\n",
    "for original, modified in zip(lines, modified_lines):\n",
    "    print(f\"Original: {original}\")\n",
    "    print(f\"Modificada: {modified}\")\n"
   ]
  }
 ],
 "metadata": {
  "kernelspec": {
   "display_name": "4DAir_LPP",
   "language": "python",
   "name": "python3"
  },
  "language_info": {
   "codemirror_mode": {
    "name": "ipython",
    "version": 3
   },
   "file_extension": ".py",
   "mimetype": "text/x-python",
   "name": "python",
   "nbconvert_exporter": "python",
   "pygments_lexer": "ipython3",
   "version": "3.11.9"
  }
 },
 "nbformat": 4,
 "nbformat_minor": 2
}
